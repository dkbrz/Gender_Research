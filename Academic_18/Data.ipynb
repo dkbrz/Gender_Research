{
 "cells": [
  {
   "cell_type": "code",
   "execution_count": 1,
   "metadata": {},
   "outputs": [],
   "source": [
    "import sqlite3\n",
    "db = sqlite3.connect('CL.db')\n",
    "cur = db.cursor()"
   ]
  },
  {
   "cell_type": "code",
   "execution_count": 2,
   "metadata": {},
   "outputs": [],
   "source": [
    "import os, re\n",
    "import requests\n",
    "from bs4 import BeautifulSoup\n",
    "from fake_useragent import UserAgent\n",
    "from tqdm import tqdm_notebook as tqdm\n",
    "import random\n",
    "from lxml.html import fromstring\n",
    "import time\n",
    "import pandas as pd\n",
    "\n",
    "ua = UserAgent(verify_ssl=False)"
   ]
  },
  {
   "cell_type": "code",
   "execution_count": 3,
   "metadata": {},
   "outputs": [],
   "source": [
    "from IPython.display import clear_output"
   ]
  },
  {
   "cell_type": "markdown",
   "metadata": {},
   "source": [
    "# Links"
   ]
  },
  {
   "cell_type": "code",
   "execution_count": null,
   "metadata": {},
   "outputs": [],
   "source": [
    "<p itemprop=\"description\">Рассмотрен ассортимент комбинированной группы <span class=\"hl to-search\">корсетных изделий</span>. Для изготовления грации предложены различные современные материалы и нити для их изготовления, представлена их характеристика. Подробно рассмотрено применение подкладочных и клеевых прокладочных, скрепляющих материалов, фурнитуры, видов отделок для изготовления женской грации.</p>"
   ]
  },
  {
   "cell_type": "code",
   "execution_count": 9,
   "metadata": {},
   "outputs": [
    {
     "data": {
      "text/plain": [
       "{'Автоматика': '/article/c/avtomatika-vychislitelnaya-tehnika',\n",
       " 'Аквакультура': '/article/c/rybnoe-hozyaystvo-akvakultura',\n",
       " 'Архитектура': '/article/c/stroitelstvo-arhitektura',\n",
       " 'Астрономия': '/article/c/astronomiya',\n",
       " 'Атеизм': '/article/c/religiya-ateizm',\n",
       " 'Биология': '/article/c/biologiya',\n",
       " 'Биотехнология': '/article/c/biotehnologiya',\n",
       " 'Бытовое обслуживание': '/article/c/zhilischno-kommunalnoe-hozyaystvo-domovodstvo-bytovoe-obsluzhivanie',\n",
       " 'Внешняя торговля': '/article/c/vneshnyaya-torgovlya',\n",
       " 'Внутренняя торговля': '/article/c/vnutrennyaya-torgovlya-turistsko-ekskursionnoe-obsluzhivanie',\n",
       " 'Водное хозяйство': '/article/c/vodnoe-hozyaystvo',\n",
       " 'Военное дело': '/article/c/voennoe-delo',\n",
       " 'Вычислительная техника': '/article/c/avtomatika-vychislitelnaya-tehnika',\n",
       " 'География': '/article/c/geografiya',\n",
       " 'Геодезия': '/article/c/geodeziya-kartografiya',\n",
       " 'Геология': '/article/c/geologiya',\n",
       " 'Геофизика': '/article/c/geofizika',\n",
       " 'Горное дело': '/article/c/gornoe-delo',\n",
       " 'Государство и право': '/article/c/gosudarstvo-i-pravo-yuridicheskie-nauki',\n",
       " 'Демография': '/article/c/demografiya',\n",
       " 'Домоводство': '/article/c/zhilischno-kommunalnoe-hozyaystvo-domovodstvo-bytovoe-obsluzhivanie',\n",
       " 'Жилищно-коммунальное хозяйство': '/article/c/zhilischno-kommunalnoe-hozyaystvo-domovodstvo-bytovoe-obsluzhivanie',\n",
       " 'Журналистика': '/article/c/massovaya-kommunikatsiya-zhurnalistika-sredstva-massovoy-informatsii',\n",
       " 'Изобретательство': '/article/c/patentnoe-delo-izobretatelstvo-ratsionalizatorstvo',\n",
       " 'Информатика': '/article/c/informatika',\n",
       " 'Искусство. Искусствоведение': '/article/c/iskusstvo-iskusstvovedenie',\n",
       " 'История. Исторические науки': '/article/c/istoriya-istoricheskie-nauki',\n",
       " 'Картография': '/article/c/geodeziya-kartografiya',\n",
       " 'Кибернетика': '/article/c/kibernetika',\n",
       " 'Комплексное изучение отдельных стран и\\xa0регионов': '/article/c/kompleksnoe-izuchenie-otdelnyh-stran-i-regionov',\n",
       " 'Комплексные проблемы общественных наук': '/article/c/kompleksnye-problemy-obschestvennyh-nauk',\n",
       " 'Космические исследования': '/article/c/kosmicheskie-issledovaniya',\n",
       " 'Культура. Культурология': '/article/c/kultura-kulturologiya',\n",
       " 'Легкая промышленность': '/article/c/legkaya-promyshlennost',\n",
       " 'Лесная и\\xa0деревообрабатывающая промышленность': '/article/c/lesnaya-i-derevoobrabatyvayuschaya-promyshlennost',\n",
       " 'Литература. Литературоведение': '/article/c/literatura-literaturovedenie-ustnoe-narodnoe-tvorchestvo',\n",
       " 'Массовая коммуникация': '/article/c/massovaya-kommunikatsiya-zhurnalistika-sredstva-massovoy-informatsii',\n",
       " 'Математика': '/article/c/matematika',\n",
       " 'Машиностроение': '/article/c/mashinostroenie',\n",
       " 'Медицина и\\xa0здравоохранение': '/article/c/meditsina-i-zdravoohranenie',\n",
       " 'Металлургия': '/article/c/metallurgiya',\n",
       " 'Метрология': '/article/c/metrologiya',\n",
       " 'Механика': '/article/c/mehanika',\n",
       " 'Народное образование': '/article/c/narodnoe-obrazovanie-pedagogika',\n",
       " 'Науковедение': '/article/c/naukovedenie',\n",
       " 'Общественные науки в\\xa0целом': '/article/c/obschestvennye-nauki-v-tselom',\n",
       " 'Общие и\\xa0комплексные проблемы естественных и\\xa0точных наук': '/article/c/obschie-i-kompleksnye-problemy-estestvennyh-i-tochnyh-nauk',\n",
       " 'Общие и\\xa0комплексные проблемы технических и\\xa0прикладных наук и\\xa0отраслей народного хозяйства': '/article/c/obschie-i-kompleksnye-problemy-tehnicheskih-i-prikladnyh-nauk-i-otrasley-narodnogo-hozyaystva',\n",
       " 'Организация и\\xa0управление': '/article/c/organizatsiya-i-upravlenie',\n",
       " 'Охрана окружающей среды': '/article/c/ohrana-okruzhayuschey-sredy-ekologiya-cheloveka',\n",
       " 'Охрана труда': '/article/c/ohrana-truda',\n",
       " 'Патентное дело': '/article/c/patentnoe-delo-izobretatelstvo-ratsionalizatorstvo',\n",
       " 'Педагогика': '/article/c/narodnoe-obrazovanie-pedagogika',\n",
       " 'Пищевая промышленность': '/article/c/pischevaya-promyshlennost',\n",
       " 'Полиграфия': '/article/c/poligrafiya-reprografiya-fotokinotehnika',\n",
       " 'Политика и политические науки': '/article/c/politika-i-politicheskie-nauki',\n",
       " 'Приборостроение': '/article/c/priborostroenie',\n",
       " 'Прочие отрасли экономики': '/article/c/prochie-otrasli-ekonomiki',\n",
       " 'Психология': '/article/c/psihologiya',\n",
       " 'Радиотехника': '/article/c/elektronika-radiotehnika',\n",
       " 'Рационализаторство': '/article/c/patentnoe-delo-izobretatelstvo-ratsionalizatorstvo',\n",
       " 'Религия': '/article/c/religiya-ateizm',\n",
       " 'Репрография': '/article/c/poligrafiya-reprografiya-fotokinotehnika',\n",
       " 'Рыбное хозяйство': '/article/c/rybnoe-hozyaystvo-akvakultura',\n",
       " 'Связь': '/article/c/svyaz',\n",
       " 'Сельское и лесное хозяйство': '/article/c/selskoe-i-lesnoe-hozyaystvo',\n",
       " 'Социология': '/article/c/sotsiologiya',\n",
       " 'Средства массовой информации': '/article/c/massovaya-kommunikatsiya-zhurnalistika-sredstva-massovoy-informatsii',\n",
       " 'Стандартизация': '/article/c/standartizatsiya',\n",
       " 'Статистика': '/article/c/statistika',\n",
       " 'Строительство': '/article/c/stroitelstvo-arhitektura',\n",
       " 'Транспорт': '/article/c/transport',\n",
       " 'Туристско-экскурсионное обслуживание': '/article/c/vnutrennyaya-torgovlya-turistsko-ekskursionnoe-obsluzhivanie',\n",
       " 'Устное народное творчество': '/article/c/literatura-literaturovedenie-ustnoe-narodnoe-tvorchestvo',\n",
       " 'Физика': '/article/c/fizika',\n",
       " 'Физическая культура и\\xa0спорт': '/article/c/fizicheskaya-kultura-i-sport',\n",
       " 'Философия': '/article/c/filosofiya',\n",
       " 'Фотокинотехника': '/article/c/poligrafiya-reprografiya-fotokinotehnika',\n",
       " 'Химическая технология. Химическая промышленность': '/article/c/himicheskaya-tehnologiya-himicheskaya-promyshlennost',\n",
       " 'Химия': '/article/c/himiya',\n",
       " 'Экология человека': '/article/c/ohrana-okruzhayuschey-sredy-ekologiya-cheloveka',\n",
       " 'Экономика и экономические науки': '/article/c/ekonomika-i-ekonomicheskie-nauki',\n",
       " 'Электроника': '/article/c/elektronika-radiotehnika',\n",
       " 'Электротехника': '/article/c/elektrotehnika',\n",
       " 'Энергетика': '/article/c/energetika',\n",
       " 'Юридические науки': '/article/c/gosudarstvo-i-pravo-yuridicheskie-nauki',\n",
       " 'Ядерная техника': '/article/c/yadernaya-tehnika',\n",
       " 'Языкознание': '/article/c/yazykoznanie'}"
      ]
     },
     "execution_count": 9,
     "metadata": {},
     "output_type": "execute_result"
    }
   ],
   "source": [
    "session = requests.session()\n",
    "headers = {'User-Agent': ua.random}\n",
    "r = session.get('https://cyberleninka.ru', headers=headers)\n",
    "\n",
    "html = r.text\n",
    "soup = BeautifulSoup(html, 'lxml')\n",
    "\n",
    "fields = {}\n",
    "\n",
    "for i in soup.find_all('ul', attrs={'class':'grnti'}):\n",
    "    for j in i.find_all('a'):\n",
    "        fields[j.text] = j['href']\n",
    "\n",
    "fields"
   ]
  },
  {
   "cell_type": "code",
   "execution_count": 4,
   "metadata": {},
   "outputs": [],
   "source": [
    "import random"
   ]
  },
  {
   "cell_type": "code",
   "execution_count": 4,
   "metadata": {},
   "outputs": [],
   "source": [
    "from pymystem3 import Mystem\n",
    "m = Mystem()\n",
    "def g_name(name):\n",
    "    global m\n",
    "    res = m.analyze(name)\n",
    "    fem, mal = 0, 0\n",
    "    if len(res) == 6:\n",
    "        res = res[2:]\n",
    "    for i in res:\n",
    "        if 'analysis' in i:\n",
    "            #print (i['analysis'])\n",
    "            if ',f,' in i['analysis'][0]['gr']:\n",
    "                fem += 1\n",
    "            elif ',m,' in i['analysis'][0]['gr']:\n",
    "                mal += 1\n",
    "    try:\n",
    "        fam = name.split()[0]\n",
    "    except IndexError:\n",
    "        return None\n",
    "    if fem > 0:\n",
    "        return 'f'\n",
    "    elif fem == 0 and mal > 1:\n",
    "        return 'm'\n",
    "    elif fam.endswith('ова') or fam.endswith('ева') or fam.endswith('ёва') or fam.endswith('ина') or fam.endswith('ына'):\n",
    "        return 'f'\n",
    "    else:\n",
    "        return None"
   ]
  },
  {
   "cell_type": "code",
   "execution_count": 22,
   "metadata": {},
   "outputs": [],
   "source": [
    "def load_one_url_page(link, field):\n",
    "    headers = {'User-Agent': ua.random}\n",
    "    r = session.get(link, headers=headers)\n",
    "    html = r.text\n",
    "    soup = BeautifulSoup(html, 'lxml')\n",
    "    for i in soup.find_all('ul', attrs={'class':'list'})[0].find_all('a'):\n",
    "        link = i['href']\n",
    "        title = i.div.text\n",
    "        year = i.span.text.split('/')[0]\n",
    "        try:\n",
    "            g = [g_name(name) for name in i.span.text.split('/')[1].split(', ')]\n",
    "        except IndexError:\n",
    "            g = ['no']\n",
    "        if g.count('f') == len(g):\n",
    "            g = 'f'\n",
    "        elif g.count('m') == len(g):\n",
    "            g = 'm'\n",
    "        else:\n",
    "            g = None\n",
    "        if g is not None:\n",
    "            cur.execute('INSERT INTO cyberleninka (field, name, g, title_url, title_text, year) \\\n",
    "            VALUES (?,?,?,?,?,?)', [field, i.span.text.split('/')[1], g, link, title, int(year)])\n",
    "            \n",
    "def get_adresses(start, start_page):\n",
    "        for i in fields:\n",
    "            clear_output()\n",
    "            headers = {'User-Agent': ua.random}\n",
    "            session = requests.session()\n",
    "            main_link = 'https://cyberleninka.ru'+fields[i]\n",
    "            r = session.get(main_link, headers=headers)\n",
    "            html = r.text\n",
    "            soup = BeautifulSoup(html, 'lxml')\n",
    "            try:\n",
    "                n_pages = int(soup.find_all('ul', attrs={'class':'paginator'})[0].find_all('a', attrs={'class':'icon'})[0]['href'].split('/')[-1])\n",
    "            except:\n",
    "                try:\n",
    "                    n_pages = len(soup.find_all('ul', attrs={'class':'paginator'})[0].find_all('a'))\n",
    "                except:\n",
    "                    n_pages = 1\n",
    "            print (i, n_pages)\n",
    "            if i == start:\n",
    "                zero = start_page\n",
    "            else:\n",
    "                zero = 0\n",
    "            for n in tqdm(range(zero, n_pages)):\n",
    "                link = main_link + '/' + str(n+1)\n",
    "                load_one_url_page(link, i)\n",
    "                db.commit()\n",
    "                x = random.uniform(0.1,0.8)\n",
    "                time.sleep(x)\n",
    "            x = random.uniform(0.2,1.4)\n",
    "            time.sleep(x)"
   ]
  },
  {
   "cell_type": "code",
   "execution_count": 28,
   "metadata": {},
   "outputs": [],
   "source": [
    "a = list(fields.keys())"
   ]
  },
  {
   "cell_type": "code",
   "execution_count": 29,
   "metadata": {},
   "outputs": [],
   "source": [
    "for i in a:\n",
    "    if i < 'Педагогика':\n",
    "        del fields[i]"
   ]
  },
  {
   "cell_type": "code",
   "execution_count": 23,
   "metadata": {},
   "outputs": [],
   "source": [
    "db.rollback()"
   ]
  },
  {
   "cell_type": "code",
   "execution_count": 32,
   "metadata": {},
   "outputs": [
    {
     "name": "stdout",
     "output_type": "stream",
     "text": [
      "Языкознание 3363\n"
     ]
    },
    {
     "data": {
      "application/vnd.jupyter.widget-view+json": {
       "model_id": "3030a9c5469c4131b09514faa83c4589",
       "version_major": 2,
       "version_minor": 0
      },
      "text/plain": [
       "HBox(children=(IntProgress(value=0, max=3363), HTML(value='')))"
      ]
     },
     "metadata": {},
     "output_type": "display_data"
    }
   ],
   "source": [
    "get_adresses('Педагогика', 3500)"
   ]
  },
  {
   "cell_type": "markdown",
   "metadata": {},
   "source": [
    "# Texts"
   ]
  },
  {
   "cell_type": "code",
   "execution_count": 21,
   "metadata": {},
   "outputs": [],
   "source": [
    "def load_one_article(url_path, proxy=None):\n",
    "    headers = {'User-Agent': ua.random}\n",
    "    r = session.get('https://cyberleninka.ru/'+url_path, proxies=proxy, headers=headers)\n",
    "    html = r.text\n",
    "    soup = BeautifulSoup(html, 'lxml')\n",
    "    try:\n",
    "        keywords = ', '.join([i.text for i in soup.find_all('i', attrs={'itemprop':'keywords'})[0].find_all('span')]).lower()\n",
    "    except IndexError:\n",
    "        keywords = ''\n",
    "    description = soup.find_all('p', attrs={'itemprop':'description'})\n",
    "    if description:\n",
    "        desc_ru = re.sub('<.*?>','',description[0].text)\n",
    "        if len(description) > 1:\n",
    "            desc_en = re.sub('<.*?>','',description[1].text)\n",
    "        else:\n",
    "            desc_en = ''\n",
    "    else:\n",
    "        desc_ru = ''\n",
    "        desc_en = ''\n",
    "    text = soup.find_all('div', attrs={'class':'ocr','itemprop':'articleBody'})[0].text.strip()\n",
    "    return keywords, desc_ru, desc_en, text\n",
    "\n",
    "def update_db(idx, keywords, desc_ru, desc_en, text):\n",
    "    cur.execute('INSERT INTO texts (id, keywords, abstract_ru, abstract_en, text) \\\n",
    "            VALUES (?,?,?,?, ?)', [idx, keywords, desc_ru, desc_en, text])\n",
    "    db.commit()"
   ]
  },
  {
   "cell_type": "code",
   "execution_count": 23,
   "metadata": {},
   "outputs": [],
   "source": [
    "def download(fields, start):\n",
    "    for j, field in enumerate(fields):\n",
    "        clear_output()\n",
    "        print (field)\n",
    "        cur.execute('SELECT id, title_url FROM cyberleninka WHERE field = ?', (field,))\n",
    "        if j == 0:\n",
    "            links = cur.fetchall()[start:]\n",
    "        else:\n",
    "            links = cur.fetchall()\n",
    "        k = 0\n",
    "        n = 0\n",
    "        for i in tqdm(links):\n",
    "            \n",
    "            if n % 100 == 0:\n",
    "                proxies = list(get_proxies())[:20]\n",
    "            if n % 37 == 0:\n",
    "                x = random.choice(proxies)\n",
    "                proxy = {'https':x, 'http': x}\n",
    "                \n",
    "            try:\n",
    "                keywords, desc_ru, desc_en, text = load_one_article(i[1], proxy)\n",
    "                update_db(i[0], keywords, desc_ru, desc_en, text)\n",
    "            except IndexError:\n",
    "                k += 1\n",
    "                print (i[0])\n",
    "            #except:\n",
    "            #    print (i[0], 'ProxyError')\n",
    "            #    k += 1\n",
    "                    \n",
    "            n += 1\n",
    "            #x = random.uniform(2.5,9.7)\n",
    "            #time.sleep(x)\n",
    "        with open('errors', 'a') as f:\n",
    "            f.write(field+'\\t'+str(k)+'\\n')"
   ]
  },
  {
   "cell_type": "code",
   "execution_count": 24,
   "metadata": {},
   "outputs": [
    {
     "data": {
      "text/plain": [
       "63"
      ]
     },
     "execution_count": 24,
     "metadata": {},
     "output_type": "execute_result"
    }
   ],
   "source": [
    "def get_proxies():\n",
    "    #url = 'https://free-proxy-list.net/'\n",
    "    url = 'https://free-proxy-list.net/anonymous-proxy.html'\n",
    "    response = requests.get(url)\n",
    "    parser = fromstring(response.text)\n",
    "    proxies = set()\n",
    "    for i in parser.xpath('//tbody/tr')[:500]:\n",
    "        if i.xpath('.//td[7][contains(text(),\"yes\")]'):\n",
    "            #Grabbing IP and corresponding PORT\n",
    "            proxy = \":\".join([i.xpath('.//td[1]/text()')[0], i.xpath('.//td[2]/text()')[0]])\n",
    "            proxies.add(proxy)\n",
    "    return proxies\n",
    "proxies = list(get_proxies())\n",
    "len(proxies)"
   ]
  },
  {
   "cell_type": "code",
   "execution_count": 25,
   "metadata": {},
   "outputs": [
    {
     "data": {
      "text/plain": [
       "'154.0.15.166:42193'"
      ]
     },
     "execution_count": 25,
     "metadata": {},
     "output_type": "execute_result"
    }
   ],
   "source": [
    "proxies[0]"
   ]
  },
  {
   "cell_type": "code",
   "execution_count": 29,
   "metadata": {},
   "outputs": [],
   "source": [
    "session = requests.session()"
   ]
  },
  {
   "cell_type": "code",
   "execution_count": null,
   "metadata": {},
   "outputs": [],
   "source": [
    "Атеизм\n",
    "Религия"
   ]
  },
  {
   "cell_type": "code",
   "execution_count": 14,
   "metadata": {},
   "outputs": [
    {
     "data": {
      "text/plain": [
       "ConnectionRefusedError"
      ]
     },
     "execution_count": 14,
     "metadata": {},
     "output_type": "execute_result"
    }
   ],
   "source": [
    "ConnectionRefusedError"
   ]
  },
  {
   "cell_type": "code",
   "execution_count": 30,
   "metadata": {},
   "outputs": [
    {
     "ename": "ModuleNotFoundError",
     "evalue": "No module named 'requests.erors'",
     "output_type": "error",
     "traceback": [
      "\u001b[0;31m---------------------------------------------------------------------------\u001b[0m",
      "\u001b[0;31mModuleNotFoundError\u001b[0m                       Traceback (most recent call last)",
      "\u001b[0;32m<ipython-input-30-a00cbf2c3efc>\u001b[0m in \u001b[0;36m<module>\u001b[0;34m\u001b[0m\n\u001b[0;32m----> 1\u001b[0;31m \u001b[0;32mfrom\u001b[0m \u001b[0mrequests\u001b[0m\u001b[0;34m.\u001b[0m\u001b[0merors\u001b[0m \u001b[0;32mimport\u001b[0m \u001b[0mProxyError\u001b[0m\u001b[0;34m\u001b[0m\u001b[0;34m\u001b[0m\u001b[0m\n\u001b[0m",
      "\u001b[0;31mModuleNotFoundError\u001b[0m: No module named 'requests.erors'"
     ]
    }
   ],
   "source": [
    "from requests.erors import ProxyError"
   ]
  },
  {
   "cell_type": "code",
   "execution_count": 35,
   "metadata": {},
   "outputs": [],
   "source": [
    "def download(fields, start):\n",
    "    for j, field in enumerate(fields):\n",
    "        clear_output()\n",
    "        print (field)\n",
    "        cur.execute('SELECT id, title_url FROM cyberleninka WHERE field = ?', (field,))\n",
    "        if j == 0:\n",
    "            links = cur.fetchall()[start:]\n",
    "        else:\n",
    "            links = cur.fetchall()\n",
    "        k = 0\n",
    "        n = 0\n",
    "        for i in tqdm(links):                \n",
    "            try:\n",
    "                keywords, desc_ru, desc_en, text = load_one_article(i[1])\n",
    "                update_db(i[0], keywords, desc_ru, desc_en, text)\n",
    "            except IndexError:\n",
    "                k += 1\n",
    "                print (i[0])\n",
    "            #except:\n",
    "            #    print (i[0], 'ProxyError')\n",
    "            #    k += 1\n",
    "                    \n",
    "            n += 1\n",
    "            x = random.uniform(5.5,10.7)\n",
    "            time.sleep(x)\n",
    "        with open('errors', 'a') as f:\n",
    "            f.write(field+'\\t'+str(k)+'\\n')"
   ]
  },
  {
   "cell_type": "code",
   "execution_count": 37,
   "metadata": {},
   "outputs": [
    {
     "name": "stdout",
     "output_type": "stream",
     "text": [
      "Геология\n"
     ]
    },
    {
     "data": {
      "application/vnd.jupyter.widget-view+json": {
       "model_id": "547bc4de729e44b3a72a77496e604c8a",
       "version_major": 2,
       "version_minor": 0
      },
      "text/plain": [
       "HBox(children=(IntProgress(value=0, max=6066), HTML(value='')))"
      ]
     },
     "metadata": {},
     "output_type": "display_data"
    },
    {
     "name": "stdout",
     "output_type": "stream",
     "text": [
      "48970\n",
      "48971\n",
      "48972\n",
      "48973\n",
      "48974\n"
     ]
    },
    {
     "ename": "KeyboardInterrupt",
     "evalue": "",
     "output_type": "error",
     "traceback": [
      "\u001b[0;31m---------------------------------------------------------------------------\u001b[0m",
      "\u001b[0;31mKeyboardInterrupt\u001b[0m                         Traceback (most recent call last)",
      "\u001b[0;32m<ipython-input-37-c4582ccdbffe>\u001b[0m in \u001b[0;36m<module>\u001b[0;34m\u001b[0m\n\u001b[1;32m      1\u001b[0m \u001b[0mfields\u001b[0m \u001b[0;34m=\u001b[0m \u001b[0;34m[\u001b[0m\u001b[0;34m'Химия'\u001b[0m\u001b[0;34m,\u001b[0m\u001b[0;34m'Строительство'\u001b[0m\u001b[0;34m,\u001b[0m\u001b[0;34m'Геология'\u001b[0m\u001b[0;34m,\u001b[0m\u001b[0;34m'Физика'\u001b[0m\u001b[0;34m,\u001b[0m\u001b[0;34m'Вычислительная техника'\u001b[0m\u001b[0;34m]\u001b[0m\u001b[0;34m\u001b[0m\u001b[0;34m\u001b[0m\u001b[0m\n\u001b[0;32m----> 2\u001b[0;31m \u001b[0mdownload\u001b[0m\u001b[0;34m(\u001b[0m\u001b[0mfields\u001b[0m\u001b[0;34m,\u001b[0m \u001b[0;36m1615\u001b[0m\u001b[0;34m+\u001b[0m\u001b[0;36m87\u001b[0m\u001b[0;34m+\u001b[0m\u001b[0;36m37\u001b[0m\u001b[0;34m+\u001b[0m\u001b[0;36m208\u001b[0m\u001b[0;34m)\u001b[0m\u001b[0;34m\u001b[0m\u001b[0;34m\u001b[0m\u001b[0m\n\u001b[0m",
      "\u001b[0;32m<ipython-input-35-ef8644e49ed0>\u001b[0m in \u001b[0;36mdownload\u001b[0;34m(fields, start)\u001b[0m\n\u001b[1;32m     23\u001b[0m             \u001b[0mn\u001b[0m \u001b[0;34m+=\u001b[0m \u001b[0;36m1\u001b[0m\u001b[0;34m\u001b[0m\u001b[0;34m\u001b[0m\u001b[0m\n\u001b[1;32m     24\u001b[0m             \u001b[0mx\u001b[0m \u001b[0;34m=\u001b[0m \u001b[0mrandom\u001b[0m\u001b[0;34m.\u001b[0m\u001b[0muniform\u001b[0m\u001b[0;34m(\u001b[0m\u001b[0;36m5.5\u001b[0m\u001b[0;34m,\u001b[0m\u001b[0;36m10.7\u001b[0m\u001b[0;34m)\u001b[0m\u001b[0;34m\u001b[0m\u001b[0;34m\u001b[0m\u001b[0m\n\u001b[0;32m---> 25\u001b[0;31m             \u001b[0mtime\u001b[0m\u001b[0;34m.\u001b[0m\u001b[0msleep\u001b[0m\u001b[0;34m(\u001b[0m\u001b[0mx\u001b[0m\u001b[0;34m)\u001b[0m\u001b[0;34m\u001b[0m\u001b[0;34m\u001b[0m\u001b[0m\n\u001b[0m\u001b[1;32m     26\u001b[0m         \u001b[0;32mwith\u001b[0m \u001b[0mopen\u001b[0m\u001b[0;34m(\u001b[0m\u001b[0;34m'errors'\u001b[0m\u001b[0;34m,\u001b[0m \u001b[0;34m'a'\u001b[0m\u001b[0;34m)\u001b[0m \u001b[0;32mas\u001b[0m \u001b[0mf\u001b[0m\u001b[0;34m:\u001b[0m\u001b[0;34m\u001b[0m\u001b[0;34m\u001b[0m\u001b[0m\n\u001b[1;32m     27\u001b[0m             \u001b[0mf\u001b[0m\u001b[0;34m.\u001b[0m\u001b[0mwrite\u001b[0m\u001b[0;34m(\u001b[0m\u001b[0mfield\u001b[0m\u001b[0;34m+\u001b[0m\u001b[0;34m'\\t'\u001b[0m\u001b[0;34m+\u001b[0m\u001b[0mstr\u001b[0m\u001b[0;34m(\u001b[0m\u001b[0mk\u001b[0m\u001b[0;34m)\u001b[0m\u001b[0;34m+\u001b[0m\u001b[0;34m'\\n'\u001b[0m\u001b[0;34m)\u001b[0m\u001b[0;34m\u001b[0m\u001b[0;34m\u001b[0m\u001b[0m\n",
      "\u001b[0;31mKeyboardInterrupt\u001b[0m: "
     ]
    }
   ],
   "source": [
    "fields = ['Химия','Строительство','Геология','Физика','Вычислительная техника']\n",
    "download(fields, 1615+87+37+208)"
   ]
  }
 ],
 "metadata": {
  "kernelspec": {
   "display_name": "Python 3",
   "language": "python",
   "name": "python3"
  },
  "language_info": {
   "codemirror_mode": {
    "name": "ipython",
    "version": 3
   },
   "file_extension": ".py",
   "mimetype": "text/x-python",
   "name": "python",
   "nbconvert_exporter": "python",
   "pygments_lexer": "ipython3",
   "version": "3.6.7"
  }
 },
 "nbformat": 4,
 "nbformat_minor": 2
}
